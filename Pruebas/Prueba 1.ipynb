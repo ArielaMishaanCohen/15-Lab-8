{
 "cells": [
  {
   "cell_type": "markdown",
   "metadata": {
    "application/vnd.databricks.v1+cell": {
     "cellMetadata": {},
     "inputWidgets": {},
     "nuid": "967e874d-f97f-4e39-b41c-8d544411cf0b",
     "showTitle": false,
     "tableResultSettingsMap": {},
     "title": ""
    }
   },
   "source": [
    "<h1 style=\"text-align:center;\"><b>Laboratorio 8</b></h1>\n",
    "<h3 style=\"text-align:center;\">Alina Carías (22539), Ariela Mishaan (22052), Marcos Díaz (221102) </h3>"
   ]
  },
  {
   "cell_type": "code",
   "execution_count": 0,
   "metadata": {
    "application/vnd.databricks.v1+cell": {
     "cellMetadata": {
      "byteLimit": 2048000,
      "rowLimit": 10000
     },
     "inputWidgets": {},
     "nuid": "33e8b6a5-c40c-439a-a737-f748bee83f3d",
     "showTitle": false,
     "tableResultSettingsMap": {},
     "title": ""
    }
   },
   "outputs": [],
   "source": [
    "#pip install openpyxl"
   ]
  },
  {
   "cell_type": "code",
   "execution_count": 0,
   "metadata": {
    "application/vnd.databricks.v1+cell": {
     "cellMetadata": {
      "byteLimit": 2048000,
      "rowLimit": 10000
     },
     "inputWidgets": {},
     "nuid": "eb882166-4566-4401-9659-5670a18be70a",
     "showTitle": false,
     "tableResultSettingsMap": {},
     "title": ""
    }
   },
   "outputs": [],
   "source": [
    "import pandas as pd\n",
    "import openpyxl\n",
    "import numpy as np"
   ]
  },
  {
   "cell_type": "markdown",
   "metadata": {
    "application/vnd.databricks.v1+cell": {
     "cellMetadata": {},
     "inputWidgets": {},
     "nuid": "285d4db5-3794-4ad0-b136-7169ffd8878a",
     "showTitle": false,
     "tableResultSettingsMap": {},
     "title": ""
    }
   },
   "source": [
    "# Carga de Datos y Análisis Exploratorio"
   ]
  },
  {
   "cell_type": "markdown",
   "metadata": {
    "application/vnd.databricks.v1+cell": {
     "cellMetadata": {},
     "inputWidgets": {},
     "nuid": "7d309701-5b74-4bda-8ba7-44a398674583",
     "showTitle": false,
     "tableResultSettingsMap": {},
     "title": ""
    }
   },
   "source": [
    "## 1. Cargar todas las hojas de Excel"
   ]
  },
  {
   "cell_type": "code",
   "execution_count": 0,
   "metadata": {
    "application/vnd.databricks.v1+cell": {
     "cellMetadata": {
      "byteLimit": 2048000,
      "rowLimit": 10000
     },
     "inputWidgets": {},
     "nuid": "5ac693e8-5655-4ce4-9a13-5c107862abab",
     "showTitle": false,
     "tableResultSettingsMap": {},
     "title": ""
    }
   },
   "outputs": [
    {
     "output_type": "stream",
     "name": "stdout",
     "output_type": "stream",
     "text": [
      "['Portada-Presentación', 'Índice', 'Directorio ', 'Procedimiento', 'cuadro 1', 'cuadro 2', 'cuadro 3', 'cuadro 4', 'cuadro 5', 'cuadro 6', 'cuadro 7', 'cuadro 8', 'cuadro 9', 'cuadro 10', 'cuadro 11', 'cuadro 12', 'cuadro 13', 'cuadro 14', 'cuadro 15', 'cuadro 16', 'cuadro 17', 'cuadro 18', 'cuadro 19', 'cuadro 20', 'cuadro 21', 'cuadro 22', 'cuadro 23', 'cuadro 24', 'cuadro 25', 'cuadro 26', 'cuadro 27', 'cuadro 28', 'cuadro 29', 'cuadro 30', 'cuadro 31', 'cuadro 32', 'cuadro 33', 'cuadro 34', 'cuadro 35', 'cuadro 36', 'cuadro 37', 'cuadro 38', 'cuadro 39', 'cuadro 40', 'cuadro 41', 'cuadro 42', 'cuadro 43', 'cuadro 44', 'cuadro 45', 'cuadro 46', 'cuadro 47', 'cuadro 48', 'cuadro 49', 'cuadro 50', 'cuadro 51', 'cuadro 52', 'cuadro 53', 'cuadro 54', 'cuadro 55', 'cuadro 56', 'cuadro 57', 'cuadro 58', 'cuadro 59', 'cuadro 60', 'cuadro 61', 'cuadro 62', 'cuadro 63', 'cuadro 64', 'cuadro 65', 'Nota técnica', 'Ficha técnica']\n"
     ]
    }
   ],
   "source": [
    "# Cargar todas las hojas del Excel\n",
    "file = \"/Volumes/workspace/default/lab8-accidentes/datos.xlsx\"\n",
    "xls = pd.ExcelFile(file)\n",
    "\n",
    "# Ver qué hojas tenemos\n",
    "print(xls.sheet_names) "
   ]
  },
  {
   "cell_type": "code",
   "execution_count": 0,
   "metadata": {
    "application/vnd.databricks.v1+cell": {
     "cellMetadata": {
      "byteLimit": 2048000,
      "rowLimit": 10000
     },
     "inputWidgets": {},
     "nuid": "45847969-47fd-4f00-adb9-565e7d806cbd",
     "showTitle": false,
     "tableResultSettingsMap": {},
     "title": ""
    }
   },
   "outputs": [],
   "source": [
    "# Ejemplo de una hoja\n",
    "\n",
    "datos = pd.read_excel('/Volumes/workspace/default/lab8-accidentes/datos.xlsx', sheet_name='cuadro 1', index_col=None)\n",
    "#datos"
   ]
  },
  {
   "cell_type": "markdown",
   "metadata": {
    "application/vnd.databricks.v1+cell": {
     "cellMetadata": {},
     "inputWidgets": {},
     "nuid": "d0057c92-814f-4286-b701-8a135b919c0e",
     "showTitle": false,
     "tableResultSettingsMap": {},
     "title": ""
    }
   },
   "source": [
    "Se puede ver que el Excel trae 65 hojas con información distinta de los accidentes. Como se puede ver en el índice de este Excel, hay 3 bases principales, cada una con información de distintas categorías: hechos de tránsito, vehículos involucrados, y fallecidos y lesionados. La cantidad de hojas es tan grande porque cada una tiene distinto nivel de detalle y de estratificación. "
   ]
  },
  {
   "cell_type": "markdown",
   "metadata": {
    "application/vnd.databricks.v1+cell": {
     "cellMetadata": {},
     "inputWidgets": {},
     "nuid": "ff40687c-3ff1-45c2-af3c-6e24f41ebe4b",
     "showTitle": false,
     "tableResultSettingsMap": {},
     "title": ""
    }
   },
   "source": [
    "## 2. Reformateo de hojas"
   ]
  },
  {
   "cell_type": "code",
   "execution_count": 0,
   "metadata": {
    "application/vnd.databricks.v1+cell": {
     "cellMetadata": {
      "byteLimit": 2048000,
      "rowLimit": 10000
     },
     "inputWidgets": {},
     "nuid": "530fb361-3b40-490e-94e5-24243b02f822",
     "showTitle": false,
     "tableResultSettingsMap": {},
     "title": ""
    }
   },
   "outputs": [],
   "source": [
    "fila_indice1 = 8 # revisada desde el excel para algunas hojas\n",
    "dimensiones = [\"Departamento\", \"Mes\", \"Anio\", \"Weekday\"]"
   ]
  },
  {
   "cell_type": "code",
   "execution_count": 0,
   "metadata": {
    "application/vnd.databricks.v1+cell": {
     "cellMetadata": {
      "byteLimit": 2048000,
      "rowLimit": 10000
     },
     "inputWidgets": {},
     "nuid": "449a395d-dbf7-4678-af89-cd19ef8bce65",
     "showTitle": false,
     "tableResultSettingsMap": {},
     "title": ""
    }
   },
   "outputs": [],
   "source": [
    "def seleccionar_rango(df, fila_indice, dim_filas, dim_columnas):\n",
    "    \"\"\"\n",
    "    df: DataFrame leído\n",
    "    fila_indice: índice donde comienza el header\n",
    "    dim_filas: variable que está en las filas (ej: \"Departamento\" o \"Mes\")\n",
    "    dim_columnas: variable que está en las columnas (ej: \"Año\", \"Mes\", \"Weekday\")\n",
    "    \"\"\"\n",
    "    # Filas: siempre omitir header + posibles totales iniciales\n",
    "    if dim_filas in [\"Departamento\", \"Mes\"]:\n",
    "        filas = slice(1, 22)  # ajusta según tus hojas, aquí ejemplo general\n",
    "    else:\n",
    "        filas = slice(1, df.shape[0])\n",
    "    \n",
    "    # Columnas: si la variable de columnas es \"Año\", selecciona 1:6\n",
    "    if dim_columnas == \"Año\":\n",
    "        columnas = slice(0, 6)\n",
    "    elif dim_columnas == \"Mes\":\n",
    "        columnas = slice(0, 14)\n",
    "    elif dim_columnas == \"Weekday\":\n",
    "        columnas = slice(0, 9)\n",
    "    else:\n",
    "        columnas = slice(0, df.shape[1])\n",
    "    \n",
    "    return df.iloc[filas, columnas]\n",
    "\n",
    "def transformar_hoja(file, sheet_name, fila_indice, id_vars_original, var_name, value_name):\n",
    "    \"\"\"\n",
    "    file: ruta del Excel\n",
    "    sheet_name: nombre de la hoja\n",
    "    fila_indice: fila donde empieza el header (pandas index)\n",
    "    id_vars_original: lista de columnas que ya existen y se usarán como id_vars\n",
    "    var_name: nombre de la columna de variable (melt)\n",
    "    value_name: nombre de la columna de valores (melt)\n",
    "    \"\"\"\n",
    "    # Leer hoja\n",
    "    df = pd.read_excel(file, sheet_name=sheet_name, header=fila_indice+1)\n",
    "    \n",
    "    # Si id_vars_original es índice numérico, mantener solo esas columnas\n",
    "    if isinstance(id_vars_original[0], int):\n",
    "        df = df.iloc[:, id_vars_original + list(range(max(id_vars_original)+1, df.shape[1]))]\n",
    "    \n",
    "    # Renombrar primera columna si está como 'Unnamed: 0'\n",
    "    if 'Unnamed: 0' in df.columns:\n",
    "        df.rename(columns={'Unnamed: 0': id_vars_original[0]}, inplace=True)\n",
    "\n",
    "    if 'Unnamed: 1' in df.columns:\n",
    "        df.drop(df.columns[1], axis=1)\n",
    "\n",
    "    # Get the name of the first column\n",
    "    first_col = df.columns[0]\n",
    "\n",
    "    # Check if 'Total' is present in the first column and drop those rows\n",
    "    if 'Total' in df[first_col].values:\n",
    "        df = df[df[first_col] != 'Total']\n",
    "    \n",
    "    df = seleccionar_rango(df, fila_indice, id_vars_original[0], var_name)\n",
    "\n",
    "    # Melt\n",
    "    df_largo = df.melt(\n",
    "        id_vars=id_vars_original,\n",
    "        var_name=var_name,\n",
    "        value_name=value_name\n",
    "    )\n",
    "    \n",
    "    # Agregar columnas faltantes\n",
    "    for dim in dimensiones:\n",
    "        if dim not in df_largo.columns:\n",
    "            df_largo[dim] = np.nan\n",
    "    \n",
    "    # Reordenar columnas: Departamento, Mes, Año, Weekday, variable\n",
    "    columnas_final = [\"Departamento\", \"Mes\", \"Anio\", \"Weekday\", value_name]\n",
    "    df_largo = df_largo[[col for col in columnas_final if col in df_largo.columns]]\n",
    "    \n",
    "    return df_largo"
   ]
  },
  {
   "cell_type": "code",
   "execution_count": 0,
   "metadata": {
    "application/vnd.databricks.v1+cell": {
     "cellMetadata": {
      "byteLimit": 2048000,
      "rowLimit": 10000
     },
     "inputWidgets": {},
     "nuid": "09c790d0-14b9-4483-b3cc-ced5853ff290",
     "showTitle": false,
     "tableResultSettingsMap": {},
     "title": ""
    }
   },
   "outputs": [],
   "source": [
    "hojas_info = {\n",
    "    \"cuadro 1\": {\"id_vars\": [\"Departamento\"], \"var_name\":\"Anio\", \"value_name\":\"accidentes_totales\"},\n",
    "\n",
    "    \"cuadro 2\": {\"id_vars\": [\"Departamento\"], \"var_name\":\"Mes\", \"value_name\":\"accidentes_totales\"},\n",
    "    \n",
    "    \"cuadro 3\": {\"id_vars\": [\"Departamento\"], \"var_name\":\"Weekday\", \"value_name\":\"accidentes_totales\"},\n",
    "    \n",
    "    \"cuadro 4\": {\"id_vars\": [\"Mes\"], \"var_name\":\"Anio\", \"value_name\":\"accidentes_totales\"},\n",
    "    \n",
    "    \"cuadro 5\": {\"id_vars\": [\"Mes\"], \"var_name\":\"Weekday\", \"value_name\":\"accidentes_totales\"},\n",
    "    # agregar las demás hojas aquí\n",
    "}\n",
    "\n",
    "lista_df = []\n",
    "\n",
    "for hoja, params in hojas_info.items():\n",
    "    df_transformado = transformar_hoja(\n",
    "        file=file,\n",
    "        sheet_name=hoja,\n",
    "        fila_indice=fila_indice1,\n",
    "        id_vars_original=params[\"id_vars\"],\n",
    "        var_name=params[\"var_name\"],\n",
    "        value_name=params[\"value_name\"]\n",
    "    )\n",
    "    lista_df.append(df_transformado)\n",
    "\n",
    "# Concatenar todas en una sola tabla maestra\n",
    "df_maestro = pd.concat(lista_df, ignore_index=True)"
   ]
  },
  {
   "cell_type": "code",
   "execution_count": 0,
   "metadata": {
    "application/vnd.databricks.v1+cell": {
     "cellMetadata": {
      "byteLimit": 2048000,
      "rowLimit": 10000
     },
     "inputWidgets": {},
     "nuid": "cdcf2a04-c332-430f-aab4-de5de5e84fbe",
     "showTitle": false,
     "tableResultSettingsMap": {},
     "title": ""
    }
   },
   "outputs": [
    {
     "output_type": "display_data",
     "data": {
      "text/html": [
       "<style scoped>\n",
       "  .table-result-container {\n",
       "    max-height: 300px;\n",
       "    overflow: auto;\n",
       "  }\n",
       "  table, th, td {\n",
       "    border: 1px solid black;\n",
       "    border-collapse: collapse;\n",
       "  }\n",
       "  th, td {\n",
       "    padding: 5px;\n",
       "  }\n",
       "  th {\n",
       "    text-align: left;\n",
       "  }\n",
       "</style><div class='table-result-container'><table class='table-result'><thead style='background-color: white'><tr><th>Departamento</th><th>Mes</th><th>Anio</th><th>Weekday</th><th>accidentes_totales</th></tr></thead><tbody><tr><td>El Progreso</td><td>null</td><td>2020</td><td>null</td><td>124.0</td></tr><tr><td>Sacatepéquez</td><td>null</td><td>2020</td><td>null</td><td>202.0</td></tr><tr><td>Chimaltenango</td><td>null</td><td>2020</td><td>null</td><td>229.0</td></tr><tr><td>Escuintla</td><td>null</td><td>2020</td><td>null</td><td>440.0</td></tr><tr><td>Santa Rosa</td><td>null</td><td>2020</td><td>null</td><td>197.0</td></tr><tr><td>Sololá</td><td>null</td><td>2020</td><td>null</td><td>81.0</td></tr><tr><td>Totonicapán</td><td>null</td><td>2020</td><td>null</td><td>49.0</td></tr><tr><td>Quetzaltenango</td><td>null</td><td>2020</td><td>null</td><td>197.0</td></tr><tr><td>Suchitepéquez</td><td>null</td><td>2020</td><td>null</td><td>201.0</td></tr><tr><td>Retalhuleu</td><td>null</td><td>2020</td><td>null</td><td>203.0</td></tr><tr><td>San Marcos</td><td>null</td><td>2020</td><td>null</td><td>147.0</td></tr><tr><td>Huehuetenango</td><td>null</td><td>2020</td><td>null</td><td>113.0</td></tr><tr><td>Quiché</td><td>null</td><td>2020</td><td>null</td><td>106.0</td></tr><tr><td>Baja Verapaz</td><td>null</td><td>2020</td><td>null</td><td>96.0</td></tr><tr><td>Alta Verapaz</td><td>null</td><td>2020</td><td>null</td><td>296.0</td></tr><tr><td>Petén</td><td>null</td><td>2020</td><td>null</td><td>206.0</td></tr><tr><td>Izabal</td><td>null</td><td>2020</td><td>null</td><td>230.0</td></tr><tr><td>Zacapa</td><td>null</td><td>2020</td><td>null</td><td>141.0</td></tr><tr><td>Chiquimula</td><td>null</td><td>2020</td><td>null</td><td>130.0</td></tr><tr><td>Jalapa</td><td>null</td><td>2020</td><td>null</td><td>121.0</td></tr><tr><td>Jutiapa</td><td>null</td><td>2020</td><td>null</td><td>165.0</td></tr><tr><td>El Progreso</td><td>null</td><td>2021</td><td>null</td><td>170.0</td></tr><tr><td>Sacatepéquez</td><td>null</td><td>2021</td><td>null</td><td>270.0</td></tr><tr><td>Chimaltenango</td><td>null</td><td>2021</td><td>null</td><td>297.0</td></tr><tr><td>Escuintla</td><td>null</td><td>2021</td><td>null</td><td>615.0</td></tr><tr><td>Santa Rosa</td><td>null</td><td>2021</td><td>null</td><td>238.0</td></tr><tr><td>Sololá</td><td>null</td><td>2021</td><td>null</td><td>109.0</td></tr><tr><td>Totonicapán</td><td>null</td><td>2021</td><td>null</td><td>77.0</td></tr><tr><td>Quetzaltenango</td><td>null</td><td>2021</td><td>null</td><td>253.0</td></tr><tr><td>Suchitepéquez</td><td>null</td><td>2021</td><td>null</td><td>229.0</td></tr><tr><td>Retalhuleu</td><td>null</td><td>2021</td><td>null</td><td>222.0</td></tr><tr><td>San Marcos</td><td>null</td><td>2021</td><td>null</td><td>182.0</td></tr><tr><td>Huehuetenango</td><td>null</td><td>2021</td><td>null</td><td>141.0</td></tr><tr><td>Quiché</td><td>null</td><td>2021</td><td>null</td><td>186.0</td></tr><tr><td>Baja Verapaz</td><td>null</td><td>2021</td><td>null</td><td>137.0</td></tr><tr><td>Alta Verapaz</td><td>null</td><td>2021</td><td>null</td><td>380.0</td></tr><tr><td>Petén</td><td>null</td><td>2021</td><td>null</td><td>266.0</td></tr><tr><td>Izabal</td><td>null</td><td>2021</td><td>null</td><td>237.0</td></tr><tr><td>Zacapa</td><td>null</td><td>2021</td><td>null</td><td>154.0</td></tr><tr><td>Chiquimula</td><td>null</td><td>2021</td><td>null</td><td>166.0</td></tr><tr><td>Jalapa</td><td>null</td><td>2021</td><td>null</td><td>146.0</td></tr><tr><td>Jutiapa</td><td>null</td><td>2021</td><td>null</td><td>228.0</td></tr><tr><td>El Progreso</td><td>null</td><td>2022</td><td>null</td><td>147.0</td></tr><tr><td>Sacatepéquez</td><td>null</td><td>2022</td><td>null</td><td>325.0</td></tr><tr><td>Chimaltenango</td><td>null</td><td>2022</td><td>null</td><td>297.0</td></tr><tr><td>Escuintla</td><td>null</td><td>2022</td><td>null</td><td>695.0</td></tr><tr><td>Santa Rosa</td><td>null</td><td>2022</td><td>null</td><td>231.0</td></tr><tr><td>Sololá</td><td>null</td><td>2022</td><td>null</td><td>68.0</td></tr><tr><td>Totonicapán</td><td>null</td><td>2022</td><td>null</td><td>82.0</td></tr><tr><td>Quetzaltenango</td><td>null</td><td>2022</td><td>null</td><td>239.0</td></tr><tr><td>Suchitepéquez</td><td>null</td><td>2022</td><td>null</td><td>215.0</td></tr><tr><td>Retalhuleu</td><td>null</td><td>2022</td><td>null</td><td>216.0</td></tr><tr><td>San Marcos</td><td>null</td><td>2022</td><td>null</td><td>138.0</td></tr><tr><td>Huehuetenango</td><td>null</td><td>2022</td><td>null</td><td>118.0</td></tr><tr><td>Quiché</td><td>null</td><td>2022</td><td>null</td><td>160.0</td></tr><tr><td>Baja Verapaz</td><td>null</td><td>2022</td><td>null</td><td>145.0</td></tr><tr><td>Alta Verapaz</td><td>null</td><td>2022</td><td>null</td><td>355.0</td></tr><tr><td>Petén</td><td>null</td><td>2022</td><td>null</td><td>226.0</td></tr><tr><td>Izabal</td><td>null</td><td>2022</td><td>null</td><td>233.0</td></tr><tr><td>Zacapa</td><td>null</td><td>2022</td><td>null</td><td>146.0</td></tr><tr><td>Chiquimula</td><td>null</td><td>2022</td><td>null</td><td>135.0</td></tr><tr><td>Jalapa</td><td>null</td><td>2022</td><td>null</td><td>127.0</td></tr><tr><td>Jutiapa</td><td>null</td><td>2022</td><td>null</td><td>239.0</td></tr><tr><td>El Progreso</td><td>null</td><td>2023</td><td>null</td><td>173.0</td></tr><tr><td>Sacatepéquez</td><td>null</td><td>2023</td><td>null</td><td>325.0</td></tr><tr><td>Chimaltenango</td><td>null</td><td>2023</td><td>null</td><td>300.0</td></tr><tr><td>Escuintla</td><td>null</td><td>2023</td><td>null</td><td>930.0</td></tr><tr><td>Santa Rosa</td><td>null</td><td>2023</td><td>null</td><td>272.0</td></tr><tr><td>Sololá</td><td>null</td><td>2023</td><td>null</td><td>72.0</td></tr><tr><td>Totonicapán</td><td>null</td><td>2023</td><td>null</td><td>40.0</td></tr><tr><td>Quetzaltenango</td><td>null</td><td>2023</td><td>null</td><td>232.0</td></tr><tr><td>Suchitepéquez</td><td>null</td><td>2023</td><td>null</td><td>187.0</td></tr><tr><td>Retalhuleu</td><td>null</td><td>2023</td><td>null</td><td>198.0</td></tr><tr><td>San Marcos</td><td>null</td><td>2023</td><td>null</td><td>178.0</td></tr><tr><td>Huehuetenango</td><td>null</td><td>2023</td><td>null</td><td>126.0</td></tr><tr><td>Quiché</td><td>null</td><td>2023</td><td>null</td><td>129.0</td></tr><tr><td>Baja Verapaz</td><td>null</td><td>2023</td><td>null</td><td>145.0</td></tr><tr><td>Alta Verapaz</td><td>null</td><td>2023</td><td>null</td><td>356.0</td></tr><tr><td>Petén</td><td>null</td><td>2023</td><td>null</td><td>256.0</td></tr><tr><td>Izabal</td><td>null</td><td>2023</td><td>null</td><td>244.0</td></tr><tr><td>Zacapa</td><td>null</td><td>2023</td><td>null</td><td>142.0</td></tr><tr><td>Chiquimula</td><td>null</td><td>2023</td><td>null</td><td>112.0</td></tr><tr><td>Jalapa</td><td>null</td><td>2023</td><td>null</td><td>118.0</td></tr><tr><td>Jutiapa</td><td>null</td><td>2023</td><td>null</td><td>226.0</td></tr><tr><td>El Progreso</td><td>null</td><td>2024</td><td>null</td><td>182.0</td></tr><tr><td>Sacatepéquez</td><td>null</td><td>2024</td><td>null</td><td>366.0</td></tr><tr><td>Chimaltenango</td><td>null</td><td>2024</td><td>null</td><td>299.0</td></tr><tr><td>Escuintla</td><td>null</td><td>2024</td><td>null</td><td>1123.0</td></tr><tr><td>Santa Rosa</td><td>null</td><td>2024</td><td>null</td><td>233.0</td></tr><tr><td>Sololá</td><td>null</td><td>2024</td><td>null</td><td>73.0</td></tr><tr><td>Totonicapán</td><td>null</td><td>2024</td><td>null</td><td>49.0</td></tr><tr><td>Quetzaltenango</td><td>null</td><td>2024</td><td>null</td><td>218.0</td></tr><tr><td>Suchitepéquez</td><td>null</td><td>2024</td><td>null</td><td>194.0</td></tr><tr><td>Retalhuleu</td><td>null</td><td>2024</td><td>null</td><td>176.0</td></tr><tr><td>San Marcos</td><td>null</td><td>2024</td><td>null</td><td>144.0</td></tr><tr><td>Huehuetenango</td><td>null</td><td>2024</td><td>null</td><td>128.0</td></tr><tr><td>Quiché</td><td>null</td><td>2024</td><td>null</td><td>153.0</td></tr><tr><td>Baja Verapaz</td><td>null</td><td>2024</td><td>null</td><td>172.0</td></tr><tr><td>Alta Verapaz</td><td>null</td><td>2024</td><td>null</td><td>364.0</td></tr><tr><td>Petén</td><td>null</td><td>2024</td><td>null</td><td>268.0</td></tr><tr><td>Izabal</td><td>null</td><td>2024</td><td>null</td><td>271.0</td></tr><tr><td>Zacapa</td><td>null</td><td>2024</td><td>null</td><td>120.0</td></tr><tr><td>Chiquimula</td><td>null</td><td>2024</td><td>null</td><td>124.0</td></tr><tr><td>Jalapa</td><td>null</td><td>2024</td><td>null</td><td>108.0</td></tr><tr><td>Jutiapa</td><td>null</td><td>2024</td><td>null</td><td>228.0</td></tr><tr><td>null</td><td>Febrero</td><td>2020</td><td>null</td><td>670.0</td></tr><tr><td>null</td><td>Marzo</td><td>2020</td><td>null</td><td>590.0</td></tr><tr><td>null</td><td>Abril</td><td>2020</td><td>null</td><td>329.0</td></tr><tr><td>null</td><td>Mayo</td><td>2020</td><td>null</td><td>374.0</td></tr><tr><td>null</td><td>Junio</td><td>2020</td><td>null</td><td>372.0</td></tr><tr><td>null</td><td>Julio</td><td>2020</td><td>null</td><td>405.0</td></tr><tr><td>null</td><td>Agosto</td><td>2020</td><td>null</td><td>571.0</td></tr><tr><td>null</td><td>Septiembre</td><td>2020</td><td>null</td><td>495.0</td></tr><tr><td>null</td><td>Octubre</td><td>2020</td><td>null</td><td>591.0</td></tr><tr><td>null</td><td>Noviembre</td><td>2020</td><td>null</td><td>626.0</td></tr><tr><td>null</td><td>Diciembre</td><td>2020</td><td>null</td><td>717.0</td></tr><tr><td>null</td><td>Fuente:      Elaboración de la Unidad de Estadísticas Socioculturales y de Seguridad del Instituto Nacional de Estadística -INE-, con datos de la Policía Nacional Civil -PNC-.</td><td>2020</td><td>null</td><td>null</td></tr><tr><td>null</td><td>Febrero</td><td>2021</td><td>null</td><td>626.0</td></tr><tr><td>null</td><td>Marzo</td><td>2021</td><td>null</td><td>657.0</td></tr><tr><td>null</td><td>Abril</td><td>2021</td><td>null</td><td>644.0</td></tr><tr><td>null</td><td>Mayo</td><td>2021</td><td>null</td><td>701.0</td></tr><tr><td>null</td><td>Junio</td><td>2021</td><td>null</td><td>625.0</td></tr><tr><td>null</td><td>Julio</td><td>2021</td><td>null</td><td>614.0</td></tr><tr><td>null</td><td>Agosto</td><td>2021</td><td>null</td><td>643.0</td></tr><tr><td>null</td><td>Septiembre</td><td>2021</td><td>null</td><td>648.0</td></tr><tr><td>null</td><td>Octubre</td><td>2021</td><td>null</td><td>691.0</td></tr><tr><td>null</td><td>Noviembre</td><td>2021</td><td>null</td><td>738.0</td></tr><tr><td>null</td><td>Diciembre</td><td>2021</td><td>null</td><td>871.0</td></tr><tr><td>null</td><td>Fuente:      Elaboración de la Unidad de Estadísticas Socioculturales y de Seguridad del Instituto Nacional de Estadística -INE-, con datos de la Policía Nacional Civil -PNC-.</td><td>2021</td><td>null</td><td>null</td></tr><tr><td>null</td><td>Febrero</td><td>2022</td><td>null</td><td>614.0</td></tr><tr><td>null</td><td>Marzo</td><td>2022</td><td>null</td><td>727.0</td></tr><tr><td>null</td><td>Abril</td><td>2022</td><td>null</td><td>632.0</td></tr><tr><td>null</td><td>Mayo</td><td>2022</td><td>null</td><td>671.0</td></tr><tr><td>null</td><td>Junio</td><td>2022</td><td>null</td><td>554.0</td></tr><tr><td>null</td><td>Julio</td><td>2022</td><td>null</td><td>683.0</td></tr><tr><td>null</td><td>Agosto</td><td>2022</td><td>null</td><td>624.0</td></tr><tr><td>null</td><td>Septiembre</td><td>2022</td><td>null</td><td>612.0</td></tr><tr><td>null</td><td>Octubre</td><td>2022</td><td>null</td><td>628.0</td></tr><tr><td>null</td><td>Noviembre</td><td>2022</td><td>null</td><td>719.0</td></tr><tr><td>null</td><td>Diciembre</td><td>2022</td><td>null</td><td>746.0</td></tr><tr><td>null</td><td>Fuente:      Elaboración de la Unidad de Estadísticas Socioculturales y de Seguridad del Instituto Nacional de Estadística -INE-, con datos de la Policía Nacional Civil -PNC-.</td><td>2022</td><td>null</td><td>null</td></tr><tr><td>null</td><td>Febrero</td><td>2023</td><td>null</td><td>683.0</td></tr><tr><td>null</td><td>Marzo</td><td>2023</td><td>null</td><td>635.0</td></tr><tr><td>null</td><td>Abril</td><td>2023</td><td>null</td><td>938.0</td></tr><tr><td>null</td><td>Mayo</td><td>2023</td><td>null</td><td>696.0</td></tr><tr><td>null</td><td>Junio</td><td>2023</td><td>null</td><td>647.0</td></tr><tr><td>null</td><td>Julio</td><td>2023</td><td>null</td><td>640.0</td></tr><tr><td>null</td><td>Agosto</td><td>2023</td><td>null</td><td>605.0</td></tr><tr><td>null</td><td>Septiembre</td><td>2023</td><td>null</td><td>615.0</td></tr><tr><td>null</td><td>Octubre</td><td>2023</td><td>null</td><td>615.0</td></tr><tr><td>null</td><td>Noviembre</td><td>2023</td><td>null</td><td>614.0</td></tr><tr><td>null</td><td>Diciembre</td><td>2023</td><td>null</td><td>834.0</td></tr><tr><td>null</td><td>Fuente:      Elaboración de la Unidad de Estadísticas Socioculturales y de Seguridad del Instituto Nacional de Estadística -INE-, con datos de la Policía Nacional Civil -PNC-.</td><td>2023</td><td>null</td><td>null</td></tr><tr><td>null</td><td>Febrero</td><td>2024</td><td>null</td><td>711.0</td></tr><tr><td>null</td><td>Marzo</td><td>2024</td><td>null</td><td>780.0</td></tr><tr><td>null</td><td>Abril</td><td>2024</td><td>null</td><td>630.0</td></tr><tr><td>null</td><td>Mayo</td><td>2024</td><td>null</td><td>674.0</td></tr><tr><td>null</td><td>Junio</td><td>2024</td><td>null</td><td>549.0</td></tr><tr><td>null</td><td>Julio</td><td>2024</td><td>null</td><td>703.0</td></tr><tr><td>null</td><td>Agosto</td><td>2024</td><td>null</td><td>687.0</td></tr><tr><td>null</td><td>Septiembre</td><td>2024</td><td>null</td><td>686.0</td></tr><tr><td>null</td><td>Octubre</td><td>2024</td><td>null</td><td>747.0</td></tr><tr><td>null</td><td>Noviembre</td><td>2024</td><td>null</td><td>768.0</td></tr><tr><td>null</td><td>Diciembre</td><td>2024</td><td>null</td><td>840.0</td></tr><tr><td>null</td><td>Fuente:      Elaboración de la Unidad de Estadísticas Socioculturales y de Seguridad del Instituto Nacional de Estadística -INE-, con datos de la Policía Nacional Civil -PNC-.</td><td>2024</td><td>null</td><td>null</td></tr></tbody></table></div>"
      ]
     },
     "metadata": {
      "application/vnd.databricks.v1+output": {
       "addedWidgets": {},
       "aggData": [],
       "aggError": "",
       "aggOverflow": false,
       "aggSchema": [],
       "aggSeriesLimitReached": false,
       "aggType": "",
       "arguments": {},
       "columnCustomDisplayInfos": {},
       "data": [
        [
         "El Progreso",
         null,
         2020,
         null,
         124.0
        ],
        [
         "Sacatepéquez",
         null,
         2020,
         null,
         202.0
        ],
        [
         "Chimaltenango",
         null,
         2020,
         null,
         229.0
        ],
        [
         "Escuintla",
         null,
         2020,
         null,
         440.0
        ],
        [
         "Santa Rosa",
         null,
         2020,
         null,
         197.0
        ],
        [
         "Sololá",
         null,
         2020,
         null,
         81.0
        ],
        [
         "Totonicapán",
         null,
         2020,
         null,
         49.0
        ],
        [
         "Quetzaltenango",
         null,
         2020,
         null,
         197.0
        ],
        [
         "Suchitepéquez",
         null,
         2020,
         null,
         201.0
        ],
        [
         "Retalhuleu",
         null,
         2020,
         null,
         203.0
        ],
        [
         "San Marcos",
         null,
         2020,
         null,
         147.0
        ],
        [
         "Huehuetenango",
         null,
         2020,
         null,
         113.0
        ],
        [
         "Quiché",
         null,
         2020,
         null,
         106.0
        ],
        [
         "Baja Verapaz",
         null,
         2020,
         null,
         96.0
        ],
        [
         "Alta Verapaz",
         null,
         2020,
         null,
         296.0
        ],
        [
         "Petén",
         null,
         2020,
         null,
         206.0
        ],
        [
         "Izabal",
         null,
         2020,
         null,
         230.0
        ],
        [
         "Zacapa",
         null,
         2020,
         null,
         141.0
        ],
        [
         "Chiquimula",
         null,
         2020,
         null,
         130.0
        ],
        [
         "Jalapa",
         null,
         2020,
         null,
         121.0
        ],
        [
         "Jutiapa",
         null,
         2020,
         null,
         165.0
        ],
        [
         "El Progreso",
         null,
         2021,
         null,
         170.0
        ],
        [
         "Sacatepéquez",
         null,
         2021,
         null,
         270.0
        ],
        [
         "Chimaltenango",
         null,
         2021,
         null,
         297.0
        ],
        [
         "Escuintla",
         null,
         2021,
         null,
         615.0
        ],
        [
         "Santa Rosa",
         null,
         2021,
         null,
         238.0
        ],
        [
         "Sololá",
         null,
         2021,
         null,
         109.0
        ],
        [
         "Totonicapán",
         null,
         2021,
         null,
         77.0
        ],
        [
         "Quetzaltenango",
         null,
         2021,
         null,
         253.0
        ],
        [
         "Suchitepéquez",
         null,
         2021,
         null,
         229.0
        ],
        [
         "Retalhuleu",
         null,
         2021,
         null,
         222.0
        ],
        [
         "San Marcos",
         null,
         2021,
         null,
         182.0
        ],
        [
         "Huehuetenango",
         null,
         2021,
         null,
         141.0
        ],
        [
         "Quiché",
         null,
         2021,
         null,
         186.0
        ],
        [
         "Baja Verapaz",
         null,
         2021,
         null,
         137.0
        ],
        [
         "Alta Verapaz",
         null,
         2021,
         null,
         380.0
        ],
        [
         "Petén",
         null,
         2021,
         null,
         266.0
        ],
        [
         "Izabal",
         null,
         2021,
         null,
         237.0
        ],
        [
         "Zacapa",
         null,
         2021,
         null,
         154.0
        ],
        [
         "Chiquimula",
         null,
         2021,
         null,
         166.0
        ],
        [
         "Jalapa",
         null,
         2021,
         null,
         146.0
        ],
        [
         "Jutiapa",
         null,
         2021,
         null,
         228.0
        ],
        [
         "El Progreso",
         null,
         2022,
         null,
         147.0
        ],
        [
         "Sacatepéquez",
         null,
         2022,
         null,
         325.0
        ],
        [
         "Chimaltenango",
         null,
         2022,
         null,
         297.0
        ],
        [
         "Escuintla",
         null,
         2022,
         null,
         695.0
        ],
        [
         "Santa Rosa",
         null,
         2022,
         null,
         231.0
        ],
        [
         "Sololá",
         null,
         2022,
         null,
         68.0
        ],
        [
         "Totonicapán",
         null,
         2022,
         null,
         82.0
        ],
        [
         "Quetzaltenango",
         null,
         2022,
         null,
         239.0
        ],
        [
         "Suchitepéquez",
         null,
         2022,
         null,
         215.0
        ],
        [
         "Retalhuleu",
         null,
         2022,
         null,
         216.0
        ],
        [
         "San Marcos",
         null,
         2022,
         null,
         138.0
        ],
        [
         "Huehuetenango",
         null,
         2022,
         null,
         118.0
        ],
        [
         "Quiché",
         null,
         2022,
         null,
         160.0
        ],
        [
         "Baja Verapaz",
         null,
         2022,
         null,
         145.0
        ],
        [
         "Alta Verapaz",
         null,
         2022,
         null,
         355.0
        ],
        [
         "Petén",
         null,
         2022,
         null,
         226.0
        ],
        [
         "Izabal",
         null,
         2022,
         null,
         233.0
        ],
        [
         "Zacapa",
         null,
         2022,
         null,
         146.0
        ],
        [
         "Chiquimula",
         null,
         2022,
         null,
         135.0
        ],
        [
         "Jalapa",
         null,
         2022,
         null,
         127.0
        ],
        [
         "Jutiapa",
         null,
         2022,
         null,
         239.0
        ],
        [
         "El Progreso",
         null,
         2023,
         null,
         173.0
        ],
        [
         "Sacatepéquez",
         null,
         2023,
         null,
         325.0
        ],
        [
         "Chimaltenango",
         null,
         2023,
         null,
         300.0
        ],
        [
         "Escuintla",
         null,
         2023,
         null,
         930.0
        ],
        [
         "Santa Rosa",
         null,
         2023,
         null,
         272.0
        ],
        [
         "Sololá",
         null,
         2023,
         null,
         72.0
        ],
        [
         "Totonicapán",
         null,
         2023,
         null,
         40.0
        ],
        [
         "Quetzaltenango",
         null,
         2023,
         null,
         232.0
        ],
        [
         "Suchitepéquez",
         null,
         2023,
         null,
         187.0
        ],
        [
         "Retalhuleu",
         null,
         2023,
         null,
         198.0
        ],
        [
         "San Marcos",
         null,
         2023,
         null,
         178.0
        ],
        [
         "Huehuetenango",
         null,
         2023,
         null,
         126.0
        ],
        [
         "Quiché",
         null,
         2023,
         null,
         129.0
        ],
        [
         "Baja Verapaz",
         null,
         2023,
         null,
         145.0
        ],
        [
         "Alta Verapaz",
         null,
         2023,
         null,
         356.0
        ],
        [
         "Petén",
         null,
         2023,
         null,
         256.0
        ],
        [
         "Izabal",
         null,
         2023,
         null,
         244.0
        ],
        [
         "Zacapa",
         null,
         2023,
         null,
         142.0
        ],
        [
         "Chiquimula",
         null,
         2023,
         null,
         112.0
        ],
        [
         "Jalapa",
         null,
         2023,
         null,
         118.0
        ],
        [
         "Jutiapa",
         null,
         2023,
         null,
         226.0
        ],
        [
         "El Progreso",
         null,
         2024,
         null,
         182.0
        ],
        [
         "Sacatepéquez",
         null,
         2024,
         null,
         366.0
        ],
        [
         "Chimaltenango",
         null,
         2024,
         null,
         299.0
        ],
        [
         "Escuintla",
         null,
         2024,
         null,
         1123.0
        ],
        [
         "Santa Rosa",
         null,
         2024,
         null,
         233.0
        ],
        [
         "Sololá",
         null,
         2024,
         null,
         73.0
        ],
        [
         "Totonicapán",
         null,
         2024,
         null,
         49.0
        ],
        [
         "Quetzaltenango",
         null,
         2024,
         null,
         218.0
        ],
        [
         "Suchitepéquez",
         null,
         2024,
         null,
         194.0
        ],
        [
         "Retalhuleu",
         null,
         2024,
         null,
         176.0
        ],
        [
         "San Marcos",
         null,
         2024,
         null,
         144.0
        ],
        [
         "Huehuetenango",
         null,
         2024,
         null,
         128.0
        ],
        [
         "Quiché",
         null,
         2024,
         null,
         153.0
        ],
        [
         "Baja Verapaz",
         null,
         2024,
         null,
         172.0
        ],
        [
         "Alta Verapaz",
         null,
         2024,
         null,
         364.0
        ],
        [
         "Petén",
         null,
         2024,
         null,
         268.0
        ],
        [
         "Izabal",
         null,
         2024,
         null,
         271.0
        ],
        [
         "Zacapa",
         null,
         2024,
         null,
         120.0
        ],
        [
         "Chiquimula",
         null,
         2024,
         null,
         124.0
        ],
        [
         "Jalapa",
         null,
         2024,
         null,
         108.0
        ],
        [
         "Jutiapa",
         null,
         2024,
         null,
         228.0
        ],
        [
         null,
         "Febrero",
         2020,
         null,
         670.0
        ],
        [
         null,
         "Marzo",
         2020,
         null,
         590.0
        ],
        [
         null,
         "Abril",
         2020,
         null,
         329.0
        ],
        [
         null,
         "Mayo",
         2020,
         null,
         374.0
        ],
        [
         null,
         "Junio",
         2020,
         null,
         372.0
        ],
        [
         null,
         "Julio",
         2020,
         null,
         405.0
        ],
        [
         null,
         "Agosto",
         2020,
         null,
         571.0
        ],
        [
         null,
         "Septiembre",
         2020,
         null,
         495.0
        ],
        [
         null,
         "Octubre",
         2020,
         null,
         591.0
        ],
        [
         null,
         "Noviembre",
         2020,
         null,
         626.0
        ],
        [
         null,
         "Diciembre",
         2020,
         null,
         717.0
        ],
        [
         null,
         "Fuente:      Elaboración de la Unidad de Estadísticas Socioculturales y de Seguridad del Instituto Nacional de Estadística -INE-, con datos de la Policía Nacional Civil -PNC-.",
         2020,
         null,
         null
        ],
        [
         null,
         "Febrero",
         2021,
         null,
         626.0
        ],
        [
         null,
         "Marzo",
         2021,
         null,
         657.0
        ],
        [
         null,
         "Abril",
         2021,
         null,
         644.0
        ],
        [
         null,
         "Mayo",
         2021,
         null,
         701.0
        ],
        [
         null,
         "Junio",
         2021,
         null,
         625.0
        ],
        [
         null,
         "Julio",
         2021,
         null,
         614.0
        ],
        [
         null,
         "Agosto",
         2021,
         null,
         643.0
        ],
        [
         null,
         "Septiembre",
         2021,
         null,
         648.0
        ],
        [
         null,
         "Octubre",
         2021,
         null,
         691.0
        ],
        [
         null,
         "Noviembre",
         2021,
         null,
         738.0
        ],
        [
         null,
         "Diciembre",
         2021,
         null,
         871.0
        ],
        [
         null,
         "Fuente:      Elaboración de la Unidad de Estadísticas Socioculturales y de Seguridad del Instituto Nacional de Estadística -INE-, con datos de la Policía Nacional Civil -PNC-.",
         2021,
         null,
         null
        ],
        [
         null,
         "Febrero",
         2022,
         null,
         614.0
        ],
        [
         null,
         "Marzo",
         2022,
         null,
         727.0
        ],
        [
         null,
         "Abril",
         2022,
         null,
         632.0
        ],
        [
         null,
         "Mayo",
         2022,
         null,
         671.0
        ],
        [
         null,
         "Junio",
         2022,
         null,
         554.0
        ],
        [
         null,
         "Julio",
         2022,
         null,
         683.0
        ],
        [
         null,
         "Agosto",
         2022,
         null,
         624.0
        ],
        [
         null,
         "Septiembre",
         2022,
         null,
         612.0
        ],
        [
         null,
         "Octubre",
         2022,
         null,
         628.0
        ],
        [
         null,
         "Noviembre",
         2022,
         null,
         719.0
        ],
        [
         null,
         "Diciembre",
         2022,
         null,
         746.0
        ],
        [
         null,
         "Fuente:      Elaboración de la Unidad de Estadísticas Socioculturales y de Seguridad del Instituto Nacional de Estadística -INE-, con datos de la Policía Nacional Civil -PNC-.",
         2022,
         null,
         null
        ],
        [
         null,
         "Febrero",
         2023,
         null,
         683.0
        ],
        [
         null,
         "Marzo",
         2023,
         null,
         635.0
        ],
        [
         null,
         "Abril",
         2023,
         null,
         938.0
        ],
        [
         null,
         "Mayo",
         2023,
         null,
         696.0
        ],
        [
         null,
         "Junio",
         2023,
         null,
         647.0
        ],
        [
         null,
         "Julio",
         2023,
         null,
         640.0
        ],
        [
         null,
         "Agosto",
         2023,
         null,
         605.0
        ],
        [
         null,
         "Septiembre",
         2023,
         null,
         615.0
        ],
        [
         null,
         "Octubre",
         2023,
         null,
         615.0
        ],
        [
         null,
         "Noviembre",
         2023,
         null,
         614.0
        ],
        [
         null,
         "Diciembre",
         2023,
         null,
         834.0
        ],
        [
         null,
         "Fuente:      Elaboración de la Unidad de Estadísticas Socioculturales y de Seguridad del Instituto Nacional de Estadística -INE-, con datos de la Policía Nacional Civil -PNC-.",
         2023,
         null,
         null
        ],
        [
         null,
         "Febrero",
         2024,
         null,
         711.0
        ],
        [
         null,
         "Marzo",
         2024,
         null,
         780.0
        ],
        [
         null,
         "Abril",
         2024,
         null,
         630.0
        ],
        [
         null,
         "Mayo",
         2024,
         null,
         674.0
        ],
        [
         null,
         "Junio",
         2024,
         null,
         549.0
        ],
        [
         null,
         "Julio",
         2024,
         null,
         703.0
        ],
        [
         null,
         "Agosto",
         2024,
         null,
         687.0
        ],
        [
         null,
         "Septiembre",
         2024,
         null,
         686.0
        ],
        [
         null,
         "Octubre",
         2024,
         null,
         747.0
        ],
        [
         null,
         "Noviembre",
         2024,
         null,
         768.0
        ],
        [
         null,
         "Diciembre",
         2024,
         null,
         840.0
        ],
        [
         null,
         "Fuente:      Elaboración de la Unidad de Estadísticas Socioculturales y de Seguridad del Instituto Nacional de Estadística -INE-, con datos de la Policía Nacional Civil -PNC-.",
         2024,
         null,
         null
        ]
       ],
       "datasetInfos": [],
       "dbfsResultPath": null,
       "isJsonSchema": true,
       "metadata": {},
       "overflow": false,
       "plotOptions": {
        "customPlotOptions": {},
        "displayType": "table",
        "pivotAggregation": null,
        "pivotColumns": null,
        "xColumns": null,
        "yColumns": null
       },
       "removedWidgets": [],
       "schema": [
        {
         "metadata": "{}",
         "name": "Departamento",
         "type": "\"string\""
        },
        {
         "metadata": "{}",
         "name": "Mes",
         "type": "\"string\""
        },
        {
         "metadata": "{}",
         "name": "Anio",
         "type": "\"long\""
        },
        {
         "metadata": "{}",
         "name": "Weekday",
         "type": "\"void\""
        },
        {
         "metadata": "{}",
         "name": "accidentes_totales",
         "type": "\"double\""
        }
       ],
       "type": "table"
      }
     },
     "output_type": "display_data"
    }
   ],
   "source": [
    "# Remove rows where 'Anio' is not a valid integer\n",
    "df_maestro = df_maestro[df_maestro['Anio'].apply(lambda x: str(x).isdigit())]\n",
    "\n",
    "# Optionally, convert 'Anio' to integer type\n",
    "df_maestro['Anio'] = df_maestro['Anio'].astype(int)\n",
    "\n",
    "display(df_maestro)"
   ]
  },
  {
   "cell_type": "markdown",
   "metadata": {
    "application/vnd.databricks.v1+cell": {
     "cellMetadata": {},
     "inputWidgets": {},
     "nuid": "ef3dc855-0c22-461c-92cd-06c70510ff2b",
     "showTitle": false,
     "tableResultSettingsMap": {},
     "title": ""
    }
   },
   "source": [
    "## 2. Reformateo de hojas"
   ]
  },
  {
   "cell_type": "code",
   "execution_count": 0,
   "metadata": {
    "application/vnd.databricks.v1+cell": {
     "cellMetadata": {
      "byteLimit": 2048000,
      "rowLimit": 10000
     },
     "inputWidgets": {},
     "nuid": "fda370dd-2b58-4568-b967-7bfe580caad6",
     "showTitle": false,
     "tableResultSettingsMap": {},
     "title": ""
    }
   },
   "outputs": [],
   "source": [
    "target_cols = [\"año\", \"mes\", \"día_semana\", \"departamento\", \"zona\", \"tipo_accidente\", \"accidentes_totales\"]\n",
    "\n",
    "def normalizar_hoja(sheet_name, category):\n",
    "\n",
    "    df = pd.read_excel(file, sheet_name=sheet_name)\n",
    "    df.columns = [c.strip().lower().replace(\" \", \"_\") for c in df.columns]\n",
    "    \n",
    "    # Crear columnas maestras si faltan\n",
    "    for col in target_cols:\n",
    "        if col not in df.columns:\n",
    "            df[col] = None\n",
    "    \n",
    "    df[\"origen\"] = sheet_name   # opcional: saber de qué cuadro salió\n",
    "    df[\"categoria\"] = category  # hechos / vehiculos / victimas\n",
    "    return df[target_cols + [\"origen\", \"categoria\"]]\n",
    "\n",
    "# Detectar todas las hojas\n",
    "xls = pd.ExcelFile(file)\n",
    "\n",
    "# Dividir rangos (según índice que revisamos)\n",
    "hechos_sheets = [f\"cuadro {i}\" for i in range(1, 17)]\n",
    "vehiculos_sheets = [f\"cuadro {i}\" for i in range(17, 31)]\n",
    "victimas_sheets = [f\"cuadro {i}\" for i in range(31, 66)]\n",
    "\n",
    "# Procesar en bloques\n",
    "hechos = pd.concat([normalizar_hoja(s, \"hechos\") for s in hechos_sheets], ignore_index=True)\n",
    "vehiculos = pd.concat([normalizar_hoja(s, \"vehiculos\") for s in vehiculos_sheets], ignore_index=True)\n",
    "victimas = pd.concat([normalizar_hoja(s, \"victimas\") for s in victimas_sheets], ignore_index=True)"
   ]
  },
  {
   "cell_type": "code",
   "execution_count": 0,
   "metadata": {
    "application/vnd.databricks.v1+cell": {
     "cellMetadata": {
      "byteLimit": 2048000,
      "rowLimit": 10000
     },
     "inputWidgets": {},
     "nuid": "04a5eb86-1403-4443-bf58-2d1b6c9b9ac7",
     "showTitle": false,
     "tableResultSettingsMap": {},
     "title": ""
    }
   },
   "outputs": [],
   "source": [
    "# Hoja 1: Total de accidentes por año y departamento\n",
    "hoja1 = pd.read_excel(file, sheet_name = 'cuadro 1', header= fila_indice1 + 1)\n",
    "\n",
    "# Reformateo de hoja 1: total de accidentes por año y departamento\n",
    "hoja1 = hoja1.iloc[1:22,0:6]\n",
    "hoja1.rename(columns = {'Unnamed: 0':'Departamento'}, inplace=True)\n",
    "hoja1 = hoja1.melt(\n",
    "    id_vars=[\"Departamento\"],          # columnas que se mantienen fijas\n",
    "    var_name=\"Año\",  # nombre de la nueva columna que guarda los encabezados originales\n",
    "    value_name=\"accidentes_totales\"  # nombre de la columna con los valores\n",
    ")\n",
    "\n",
    "hoja1.insert(\n",
    "    loc=hoja1.columns.get_loc(\"Año\") + 1,  # se vuelve a calcular la posición después de Año\n",
    "    column=\"Weekday\",\n",
    "    value=np.nan\n",
    ")\n",
    "\n",
    "# Agregar columnas mes y weekday después de Año\n",
    "hoja1.insert(\n",
    "    loc=hoja1.columns.get_loc(\"Año\") + 1,  # posición después de Año\n",
    "    column=\"Mes\",\n",
    "    value=np.nan\n",
    ")\n",
    "\n",
    "hoja1"
   ]
  },
  {
   "cell_type": "code",
   "execution_count": 0,
   "metadata": {
    "application/vnd.databricks.v1+cell": {
     "cellMetadata": {
      "byteLimit": 2048000,
      "rowLimit": 10000
     },
     "inputWidgets": {},
     "nuid": "7d19e720-a4b2-4ead-afec-5c0f0a2118d9",
     "showTitle": false,
     "tableResultSettingsMap": {},
     "title": ""
    }
   },
   "outputs": [],
   "source": [
    "# Hoja 2: Total de accidentes por depaertamento y por mes\n",
    "hoja2 = pd.read_excel(file, sheet_name = 'cuadro 2', header= fila_indice1 + 1)\n",
    "hoja2 = hoja2.iloc[1:22, 0:14].drop(hoja2.columns[1], axis=1)\n",
    "hoja2.rename(columns = {'Unnamed: 0':'Departamento'}, inplace=True)\n",
    "\n",
    "hoja2 = hoja2.melt(\n",
    "    id_vars=[\"Departamento\"],          # columnas que se mantienen fijas\n",
    "    var_name=\"Mes\",  # nombre de la nueva columna que guarda los encabezados originales\n",
    "    value_name=\"accidentes_totales\"  # nombre de la columna con los valores\n",
    ")\n",
    "\n",
    "# Agregar columnas Año y Weekday para igualar la estructura\n",
    "hoja2.insert(\n",
    "    loc=hoja2.columns.get_loc(\"Departamento\"), \n",
    "    column=\"Weekday\",\n",
    "    value=np.nan\n",
    ")\n",
    "\n",
    "hoja2.insert(\n",
    "    loc=hoja2.columns.get_loc(\"Mes\"), \n",
    "    column=\"Año\",\n",
    "    value=np.nan\n",
    ")\n",
    "hoja2"
   ]
  },
  {
   "cell_type": "code",
   "execution_count": 0,
   "metadata": {
    "application/vnd.databricks.v1+cell": {
     "cellMetadata": {
      "byteLimit": 2048000,
      "rowLimit": 10000
     },
     "inputWidgets": {},
     "nuid": "853cd812-dd71-40df-a16f-4dbcc7d31be8",
     "showTitle": false,
     "tableResultSettingsMap": {},
     "title": ""
    }
   },
   "outputs": [],
   "source": [
    "# Hoja 3: Total de accidentes por depaertamento y por día de la semana\n",
    "hoja3 = pd.read_excel(file, sheet_name = 'cuadro 3', header= fila_indice1 + 1)\n",
    "hoja3 = hoja3.iloc[1:22, 0:9].drop(hoja3.columns[1], axis=1)\n",
    "hoja3.rename(columns = {'Unnamed: 0':'Departamento'}, inplace=True)\n",
    "\n",
    "hoja3 = hoja3.melt(\n",
    "    id_vars=[\"Departamento\"],          # columnas que se mantienen fijas\n",
    "    var_name=\"Weekday\",  # nombre de la nueva columna que guarda los encabezados originales\n",
    "    value_name=\"accidentes_totales\"  # nombre de la columna con los valores\n",
    ")\n",
    "hoja3"
   ]
  },
  {
   "cell_type": "code",
   "execution_count": 0,
   "metadata": {
    "application/vnd.databricks.v1+cell": {
     "cellMetadata": {
      "byteLimit": 2048000,
      "rowLimit": 10000
     },
     "inputWidgets": {},
     "nuid": "0f0c1cee-5af6-46d3-a1b3-5eb914c64d83",
     "showTitle": false,
     "tableResultSettingsMap": {},
     "title": ""
    }
   },
   "outputs": [],
   "source": [
    "# Hoja 4: accidentes totales por mes y año\n",
    "hoja4 = pd.read_excel(file, sheet_name = 'cuadro 4', header= fila_indice1 + 1)\n",
    "hoja4 = hoja4.iloc[1:12, 0:6]\n",
    "hoja4.rename(columns = {'Unnamed: 0':'Mes'}, inplace=True)\n",
    "\n",
    "hoja4 = hoja4.melt(\n",
    "    id_vars=[\"Mes\"],          # columnas que se mantienen fijas\n",
    "    var_name=\"Año\",  # nombre de la nueva columna que guarda los encabezados originales\n",
    "    value_name=\"accidentes_totales\"  # nombre de la columna con los valores\n",
    ")\n",
    "hoja4.head()"
   ]
  },
  {
   "cell_type": "code",
   "execution_count": 0,
   "metadata": {
    "application/vnd.databricks.v1+cell": {
     "cellMetadata": {
      "byteLimit": 2048000,
      "rowLimit": 10000
     },
     "inputWidgets": {},
     "nuid": "20aea599-2a9f-4f28-9c56-7719218cbe3b",
     "showTitle": false,
     "tableResultSettingsMap": {},
     "title": ""
    }
   },
   "outputs": [],
   "source": [
    "# Hoja 5: \n",
    "hoja5 = pd.read_excel(file, sheet_name = 'cuadro 5', header= fila_indice1 + 1)\n",
    "hoja5 = hoja5.iloc[1:12, 0:9].drop(hoja5.columns[1], axis=1)\n",
    "hoja5.rename(columns = {'Unnamed: 0':'Mes'}, inplace=True)\n",
    "\n",
    "hoja5 = hoja5.melt(\n",
    "    id_vars=[\"Mes\"],          # columnas que se mantienen fijas\n",
    "    var_name=\"Weekday\",  # nombre de la nueva columna que guarda los encabezados originales\n",
    "    value_name=\"accidentes_totales\"  # nombre de la columna con los valores\n",
    ")\n",
    "hoja5"
   ]
  },
  {
   "cell_type": "code",
   "execution_count": 0,
   "metadata": {
    "application/vnd.databricks.v1+cell": {
     "cellMetadata": {
      "byteLimit": 2048000,
      "rowLimit": 10000
     },
     "inputWidgets": {},
     "nuid": "48270469-1500-4ce8-8be7-cb18e9765074",
     "showTitle": false,
     "tableResultSettingsMap": {},
     "title": ""
    }
   },
   "outputs": [],
   "source": [
    "# Hojas sobre hechos 2020-2024\n",
    "fila_indice1 = 8 # revisada desde el excel\n",
    "hoja1_totalacc_anio_dep = pd.read_excel(file, sheet_name = 'cuadro 1', header= fila_indice1 + 1)\n",
    "hoja4_totalacc_anio_mes = pd.read_excel(file, sheet_name = 'cuadro 4', header= fila_indice1 + 1)\n",
    "hoja6_totalacc_anio_weekday = pd.read_excel(file, sheet_name = 'cuadro 6', header= fila_indice1 + 1)\n",
    "\n",
    "# Hojas sobre vehículos 2020-2024\n",
    "hoja17 = pd.read_excel(file, sheet_name = 'cuadro 17', header= fila_indice1 + 1)\n",
    "hoja17\n"
   ]
  },
  {
   "cell_type": "code",
   "execution_count": 0,
   "metadata": {
    "application/vnd.databricks.v1+cell": {
     "cellMetadata": {
      "byteLimit": 2048000,
      "rowLimit": 10000
     },
     "inputWidgets": {},
     "nuid": "4d65bfd0-cc0b-4d8d-9c16-cf2aa298be6d",
     "showTitle": false,
     "tableResultSettingsMap": {},
     "title": ""
    }
   },
   "outputs": [],
   "source": []
  }
 ],
 "metadata": {
  "application/vnd.databricks.v1+notebook": {
   "computePreferences": null,
   "dashboards": [],
   "environmentMetadata": {
    "base_environment": "",
    "environment_version": "3"
   },
   "inputWidgetPreferences": null,
   "language": "python",
   "notebookMetadata": {
    "pythonIndentUnit": 4
   },
   "notebookName": "2 Lab 8 - Transformaciones con Spark",
   "widgets": {}
  },
  "language_info": {
   "name": "python"
  }
 },
 "nbformat": 4,
 "nbformat_minor": 0
}